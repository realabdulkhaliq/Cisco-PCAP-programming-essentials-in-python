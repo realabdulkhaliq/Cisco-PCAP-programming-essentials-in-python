{
 "cells": [
  {
   "cell_type": "code",
   "execution_count": 3,
   "metadata": {},
   "outputs": [
    {
     "name": "stdout",
     "output_type": "stream",
     "text": [
      "123\n",
      "abc\n"
     ]
    }
   ],
   "source": [
    "print(123)\n",
    "print(\"abc\")"
   ]
  },
  {
   "cell_type": "code",
   "execution_count": 2,
   "metadata": {},
   "outputs": [
    {
     "ename": "SyntaxError",
     "evalue": "invalid decimal literal (2099729671.py, line 1)",
     "output_type": "error",
     "traceback": [
      "\u001b[1;36m  Cell \u001b[1;32mIn[2], line 1\u001b[1;36m\u001b[0m\n\u001b[1;33m    print(123abc)\u001b[0m\n\u001b[1;37m            ^\u001b[0m\n\u001b[1;31mSyntaxError\u001b[0m\u001b[1;31m:\u001b[0m invalid decimal literal\n"
     ]
    }
   ],
   "source": [
    "print(123abc)"
   ]
  },
  {
   "cell_type": "code",
   "execution_count": 4,
   "metadata": {},
   "outputs": [
    {
     "name": "stdout",
     "output_type": "stream",
     "text": [
      "I am \\ fine\n"
     ]
    },
    {
     "name": "stderr",
     "output_type": "stream",
     "text": [
      "<>:1: SyntaxWarning: invalid escape sequence '\\ '\n",
      "<>:1: SyntaxWarning: invalid escape sequence '\\ '\n",
      "C:\\Users\\PC\\AppData\\Local\\Temp\\ipykernel_9204\\356085025.py:1: SyntaxWarning: invalid escape sequence '\\ '\n",
      "  print(\"I am \\ fine\")\n"
     ]
    }
   ],
   "source": [
    "print(\"I am \\ fine\")"
   ]
  },
  {
   "cell_type": "code",
   "execution_count": 5,
   "metadata": {},
   "outputs": [
    {
     "name": "stdout",
     "output_type": "stream",
     "text": [
      "I am \\ fine\n"
     ]
    }
   ],
   "source": [
    "print(\"I am \\\\ fine\")"
   ]
  },
  {
   "cell_type": "code",
   "execution_count": 7,
   "metadata": {},
   "outputs": [
    {
     "name": "stdout",
     "output_type": "stream",
     "text": [
      "How are you? I am fine.\n"
     ]
    }
   ],
   "source": [
    "print(\"How are you?\",\"I am fine.\")"
   ]
  },
  {
   "cell_type": "code",
   "execution_count": 8,
   "metadata": {},
   "outputs": [
    {
     "name": "stdout",
     "output_type": "stream",
     "text": [
      "How are you? \n",
      " I am fine.\n"
     ]
    }
   ],
   "source": [
    "print(\"How are you?\",\"\\n\",\"I am fine.\")"
   ]
  },
  {
   "cell_type": "markdown",
   "metadata": {},
   "source": [
    "#### A Function"
   ]
  },
  {
   "cell_type": "markdown",
   "metadata": {},
   "source": [
    "A function is able to:\n",
    "\n",
    "**cause some effect** (e.g., send text to the terminal, create a file, draw an image, play a sound, etc.)\n",
    "\n",
    "**evaluate a value** (e.g., the square root of a value or the length of a given text) and return it as the function's result"
   ]
  },
  {
   "cell_type": "markdown",
   "metadata": {},
   "source": [
    "a function may have:\n",
    "\n",
    "* an effect;\n",
    "* a result.\n",
    "\n",
    "`function_name(argument)`"
   ]
  },
  {
   "cell_type": "markdown",
   "metadata": {},
   "source": [
    "print()\n",
    "\n",
    "takes its arguments (it may accept more than one argument and may also accept less than one argument)\n",
    "\n",
    "What value does the print() function return?\n",
    "\n",
    "None.\n",
    "\n",
    "argument is implicitly used in the following way: end=\"\\n\"."
   ]
  },
  {
   "cell_type": "code",
   "execution_count": 9,
   "metadata": {},
   "outputs": [
    {
     "name": "stdout",
     "output_type": "stream",
     "text": [
      "My-name-is-Monty-Python.\n"
     ]
    }
   ],
   "source": [
    "print(\"My\", \"name\", \"is\", \"Monty\", \"Python.\", sep=\"-\")"
   ]
  },
  {
   "cell_type": "markdown",
   "metadata": {},
   "source": [
    "This can be used for creating **urls**"
   ]
  },
  {
   "cell_type": "markdown",
   "metadata": {},
   "source": [
    "`Programming***Essentials***in...Python`"
   ]
  },
  {
   "cell_type": "code",
   "execution_count": 3,
   "metadata": {},
   "outputs": [
    {
     "name": "stdout",
     "output_type": "stream",
     "text": [
      "Programming***Essentials***in...Python\n"
     ]
    }
   ],
   "source": [
    "print(\"Programming\",\"Essentials\",\"in\", sep=\"***\", end=\"...\")\n",
    "print(\"Python\")"
   ]
  },
  {
   "cell_type": "markdown",
   "metadata": {},
   "source": [
    "**function invocation or function call**"
   ]
  },
  {
   "cell_type": "code",
   "execution_count": 7,
   "metadata": {},
   "outputs": [
    {
     "name": "stdout",
     "output_type": "stream",
     "text": [
      "Greg's book.\n",
      "'Greg's book.'\n",
      "\"Greg's book.\"\n",
      "Greg's book.\n"
     ]
    }
   ],
   "source": [
    "print('Greg\\'s book.')\n",
    "print(\"'Greg's book.'\")\n",
    "print('\"Greg\\'s book.\"')\n",
    "print(\"Greg\\'s book.\")"
   ]
  },
  {
   "cell_type": "code",
   "execution_count": 8,
   "metadata": {},
   "outputs": [
    {
     "ename": "SyntaxError",
     "evalue": "unterminated string literal (detected at line 1) (2101838058.py, line 1)",
     "output_type": "error",
     "traceback": [
      "\u001b[1;36m  Cell \u001b[1;32mIn[8], line 1\u001b[1;36m\u001b[0m\n\u001b[1;33m    print('\"Greg's book.\"')\u001b[0m\n\u001b[1;37m                        ^\u001b[0m\n\u001b[1;31mSyntaxError\u001b[0m\u001b[1;31m:\u001b[0m unterminated string literal (detected at line 1)\n"
     ]
    }
   ],
   "source": [
    "print('\"Greg's book.\"')"
   ]
  },
  {
   "cell_type": "code",
   "execution_count": 9,
   "metadata": {},
   "outputs": [
    {
     "ename": "SyntaxError",
     "evalue": "unterminated string literal (detected at line 1) (544515057.py, line 1)",
     "output_type": "error",
     "traceback": [
      "\u001b[1;36m  Cell \u001b[1;32mIn[9], line 1\u001b[1;36m\u001b[0m\n\u001b[1;33m    print(\"'Gregs\" book.'\")\u001b[0m\n\u001b[1;37m                        ^\u001b[0m\n\u001b[1;31mSyntaxError\u001b[0m\u001b[1;31m:\u001b[0m unterminated string literal (detected at line 1)\n"
     ]
    }
   ],
   "source": [
    "print(\"'Gregs\" book.'\")"
   ]
  },
  {
   "cell_type": "markdown",
   "metadata": {},
   "source": [
    "SyntaxError: Starting and ending ' or \" conflict"
   ]
  },
  {
   "cell_type": "markdown",
   "metadata": {},
   "source": [
    "#### Literals - the data in itself\n",
    "\n",
    "**A literal is data whose values are determined by the literal itself.**\n",
    "\n",
    "جسكی ٹاءپ ڈیٹا كود ہی بتا دے\n",
    "\n",
    "123 is a literal, and c is not."
   ]
  },
  {
   "cell_type": "markdown",
   "metadata": {},
   "source": [
    "##### String and Integer Literals"
   ]
  },
  {
   "cell_type": "code",
   "execution_count": 11,
   "metadata": {},
   "outputs": [
    {
     "name": "stdout",
     "output_type": "stream",
     "text": [
      "2\n",
      "2\n"
     ]
    }
   ],
   "source": [
    "print(\"2\")\n",
    "print(2)"
   ]
  },
  {
   "cell_type": "code",
   "execution_count": 10,
   "metadata": {},
   "outputs": [
    {
     "name": "stdout",
     "output_type": "stream",
     "text": [
      "2\n",
      "4\n",
      "2.2\n"
     ]
    }
   ],
   "source": [
    "print(2)\n",
    "print(2+2)\n",
    "print(2.2)"
   ]
  },
  {
   "cell_type": "markdown",
   "metadata": {},
   "source": [
    "You would write the number like this: 11,111,111, or like this: 11.111.111, or even like this: 11 111 111.\n",
    "\n",
    "Python doesn't accept things like these. It's prohibited. What Python does allow, though, is the use of underscores in numeric literals.\n",
    "\n",
    "11_111_111"
   ]
  },
  {
   "cell_type": "code",
   "execution_count": 11,
   "metadata": {},
   "outputs": [
    {
     "name": "stdout",
     "output_type": "stream",
     "text": [
      "This is in decimal 10\n"
     ]
    }
   ],
   "source": [
    "print(\"This is in decimal\", 10)"
   ]
  },
  {
   "cell_type": "code",
   "execution_count": 29,
   "metadata": {},
   "outputs": [
    {
     "name": "stdout",
     "output_type": "stream",
     "text": [
      "Convert binary to decimal 10\n",
      "==================\n",
      "Convert octal to decimal 520\n",
      "Convert octal to decimal 8\n",
      "==================\n",
      "Convert hexa to decimal 4112\n",
      "Convert hexa to decimal 10\n"
     ]
    }
   ],
   "source": [
    "print(\"Convert binary to decimal\", 0b1010)\n",
    "print(\"==================\")\n",
    "print(\"Convert octal to decimal\", 0o1010)\n",
    "print(\"Convert octal to decimal\", 0o10)\n",
    "print(\"==================\")\n",
    "print(\"Convert hexa to decimal\", 0x1010)\n",
    "print(\"Convert hexa to decimal\", 0xA)"
   ]
  },
  {
   "cell_type": "code",
   "execution_count": 30,
   "metadata": {},
   "outputs": [
    {
     "name": "stdout",
     "output_type": "stream",
     "text": [
      "Convert decimal to binary 0b1010\n",
      "Convert decimal to hexadecimal 0xa\n",
      "Convert decimal to octal 0o12\n"
     ]
    }
   ],
   "source": [
    "print(\"Convert decimal to binary\", bin(10))\n",
    "print(\"Convert decimal to hexadecimal\", hex(10))\n",
    "print(\"Convert decimal to octal\", oct(10))"
   ]
  },
  {
   "cell_type": "code",
   "execution_count": 44,
   "metadata": {},
   "outputs": [
    {
     "name": "stdout",
     "output_type": "stream",
     "text": [
      "300000000.0\n",
      "3000000000000000.0\n",
      "3e+16\n",
      "==============\n",
      "0.0003\n",
      "3e-05\n",
      "==============\n",
      "0.0005\n",
      "5e-05\n",
      "5e-10\n"
     ]
    }
   ],
   "source": [
    "print(3E8)\n",
    "print(3E15)\n",
    "print(3E16)\n",
    "\n",
    "# Exponent up to 15\n",
    "print(\"==============\")\n",
    "print(3E-4)\n",
    "print(3E-5)\n",
    "print(\"==============\")\n",
    "print(0.0005)\n",
    "print(0.00005)\n",
    "print(0.0000000005)\n"
   ]
  },
  {
   "cell_type": "markdown",
   "metadata": {},
   "source": [
    "### Operators\n",
    "Data and operators when connected together form expressions."
   ]
  },
  {
   "cell_type": "code",
   "execution_count": 45,
   "metadata": {},
   "outputs": [
    {
     "name": "stdout",
     "output_type": "stream",
     "text": [
      "4\n",
      "8\n",
      "8.0\n",
      "8.0\n",
      "8.0\n"
     ]
    }
   ],
   "source": [
    "print(2+2)\n",
    "print(2 ** 3)\n",
    "print(2 ** 3.)\n",
    "print(2. ** 3)\n",
    "print(2. ** 3.)"
   ]
  },
  {
   "cell_type": "code",
   "execution_count": 75,
   "metadata": {},
   "outputs": [
    {
     "name": "stdout",
     "output_type": "stream",
     "text": [
      "17.0\n"
     ]
    }
   ],
   "source": [
    "y = 2 + 3 * 5.\n",
    "print(y)"
   ]
  },
  {
   "cell_type": "code",
   "execution_count": 52,
   "metadata": {},
   "outputs": [
    {
     "name": "stdout",
     "output_type": "stream",
     "text": [
      "-2\n",
      "-2.0\n",
      "0.0\n",
      "-1.0\n",
      "-1.0\n"
     ]
    }
   ],
   "source": [
    "print(-6 // 4)\n",
    "print(6. // -4)\n",
    "print(4. // 6) # 4//6 = 0.6666666 = 0.0\n",
    "print(-4. // 6) # -4//6 = -0.666666 = -1.0\n",
    "print(4. // -6) # Here + and - is uniry operator "
   ]
  },
  {
   "cell_type": "markdown",
   "metadata": {},
   "source": [
    "**This is very important:** *rounding always goes to the lesser integer.*\n",
    "\n",
    "left-sided binding => Left to Right\n",
    "\n",
    "right-sided binding => Right to Left"
   ]
  },
  {
   "cell_type": "markdown",
   "metadata": {},
   "source": [
    "### Variables\n",
    "\n",
    "variables (an identifier) = \"boxes\" (containers)\n",
    "* a name\n",
    "* a value\n",
    "\n",
    "- the name of the variable must be composed of upper-case or lower-case letters, digits, and the character _ - (underscore)\n",
    "- the name of the variable must begin with a letter;\n",
    "- the underscore character is a letter;\n",
    "- upper- and lower-case letters are treated as different\n",
    "- the name of the variable must not be any of Python's reserved words (the keywords)"
   ]
  },
  {
   "cell_type": "code",
   "execution_count": 57,
   "metadata": {},
   "outputs": [
    {
     "name": "stdout",
     "output_type": "stream",
     "text": [
      "20\n",
      "20\n",
      "20\n",
      "میں ایک لڑکا ہوں\n",
      "میں ایک لڑکا ہوں\n"
     ]
    }
   ],
   "source": [
    "Print = 20\n",
    "print(Print) # This is OK but not recomended\n",
    "\n",
    "print_value = 20\n",
    "print(print_value) # Recomended\n",
    "\n",
    "ویری_ایبل = 20\n",
    "print(ویری_ایبل) # OK\n",
    "\n",
    "print(\"میں ایک لڑکا ہوں\")\n",
    "urdu = \"میں ایک لڑکا ہوں\"\n",
    "print(urdu)"
   ]
  },
  {
   "cell_type": "markdown",
   "metadata": {},
   "source": [
    "Shortcut operators"
   ]
  },
  {
   "cell_type": "code",
   "execution_count": 60,
   "metadata": {},
   "outputs": [
    {
     "name": "stdout",
     "output_type": "stream",
     "text": [
      "4\n",
      "6\n"
     ]
    }
   ],
   "source": [
    "x = 2\n",
    "x = x*2\n",
    "y = 3\n",
    "y *= 2\n",
    "\n",
    "print(x)\n",
    "print(y)\n"
   ]
  },
  {
   "cell_type": "markdown",
   "metadata": {},
   "source": [
    "### Input"
   ]
  },
  {
   "cell_type": "code",
   "execution_count": 62,
   "metadata": {},
   "outputs": [
    {
     "name": "stdout",
     "output_type": "stream",
     "text": [
      "5555555555\n",
      "50\n"
     ]
    }
   ],
   "source": [
    "a = input(\"Enter a number: \")\n",
    "print ( 10 * a)\n",
    "\n",
    "b = int(input(\"Enter another number: \"))\n",
    "print(10 * b)"
   ]
  },
  {
   "cell_type": "markdown",
   "metadata": {},
   "source": [
    "Concatenation operator:\n",
    "\n",
    "`string + string`\n",
    "\n",
    "Replication operator:\n",
    "\n",
    "`string * number` </br>\n",
    "`number * string`"
   ]
  },
  {
   "cell_type": "code",
   "execution_count": 66,
   "metadata": {},
   "outputs": [
    {
     "name": "stdout",
     "output_type": "stream",
     "text": [
      "+----------+\n",
      "|          |\n",
      "|          |\n",
      "|          |\n",
      "|          |\n",
      "|          |\n",
      "+----------+\n"
     ]
    }
   ],
   "source": [
    "print(\"+\" + 10 * \"-\" + \"+\")\n",
    "print((\"|\" + \" \" * 10 + \"|\\n\") * 5, end=\"\")\n",
    "print(\"+\" + 10 * \"-\" + \"+\")"
   ]
  },
  {
   "cell_type": "markdown",
   "metadata": {},
   "source": [
    "Type conversion\n",
    "\n",
    "str(number)"
   ]
  },
  {
   "cell_type": "code",
   "execution_count": 64,
   "metadata": {},
   "outputs": [
    {
     "name": "stdout",
     "output_type": "stream",
     "text": [
      "Hypotenuse length is 5.0\n"
     ]
    }
   ],
   "source": [
    "leg_a = float(input(\"Input first leg length: \"))\n",
    "leg_b = float(input(\"Input second leg length: \"))\n",
    "print(\"Hypotenuse length is \" + str((leg_a**2 + leg_b**2) ** .5))"
   ]
  },
  {
   "cell_type": "code",
   "execution_count": 74,
   "metadata": {},
   "outputs": [
    {
     "name": "stdout",
     "output_type": "stream",
     "text": [
      "*\n",
      "**\n",
      "***\n",
      "****\n",
      "*****\n",
      "=======\n",
      "*\n",
      "**\n",
      "***\n",
      "****\n",
      "*****\n"
     ]
    }
   ],
   "source": [
    "print(\"*\")\n",
    "print(\"*\" * 2)\n",
    "print(\"*\" * 3)\n",
    "print(\"*\" * 4)\n",
    "print(\"*\" * 5)\n",
    "print(\"=======\")\n",
    "for i in range(1, 6):\n",
    "    print(\"*\" * i)"
   ]
  }
 ],
 "metadata": {
  "kernelspec": {
   "display_name": "py12",
   "language": "python",
   "name": "python3"
  },
  "language_info": {
   "codemirror_mode": {
    "name": "ipython",
    "version": 3
   },
   "file_extension": ".py",
   "mimetype": "text/x-python",
   "name": "python",
   "nbconvert_exporter": "python",
   "pygments_lexer": "ipython3",
   "version": "3.12.0"
  }
 },
 "nbformat": 4,
 "nbformat_minor": 2
}
