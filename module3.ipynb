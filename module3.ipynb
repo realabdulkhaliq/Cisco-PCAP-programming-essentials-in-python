{
 "cells": [
  {
   "cell_type": "markdown",
   "metadata": {},
   "source": [
    "## Module 3\n",
    "### Comparison operators\n",
    "\n",
    "<, <=, >, >=, ==,  !="
   ]
  },
  {
   "cell_type": "markdown",
   "metadata": {},
   "source": [
    "#### Conditions and conditional execution\n",
    "\n",
    "`if true_or_false_condition:`\n",
    "    `perform_if_condition_true`\n",
    "`else:`\n",
    "    `perform_if_condition_false`"
   ]
  },
  {
   "cell_type": "code",
   "execution_count": 2,
   "metadata": {},
   "outputs": [
    {
     "name": "stdout",
     "output_type": "stream",
     "text": [
      "The larger number is: 4\n"
     ]
    }
   ],
   "source": [
    "# Read two numbers\n",
    "number1 = int(input(\"Enter the first number: \"))\n",
    "number2 = int(input(\"Enter the second number: \"))\n",
    "\n",
    "# Choose the larger number\n",
    "if number1 > number2:\n",
    "    larger_number = number1\n",
    "else:\n",
    "    larger_number = number2\n",
    "\n",
    "# Print the result\n",
    "print(\"The larger number is:\", larger_number)"
   ]
  },
  {
   "cell_type": "code",
   "execution_count": 3,
   "metadata": {},
   "outputs": [
    {
     "name": "stdout",
     "output_type": "stream",
     "text": [
      "The larger number is: 5\n"
     ]
    }
   ],
   "source": [
    "# Read two numbers\n",
    "number1 = int(input(\"Enter the first number: \"))\n",
    "number2 = int(input(\"Enter the second number: \"))\n",
    "\n",
    "# Choose the larger number\n",
    "if number1 > number2: larger_number = number1\n",
    "else: larger_number = number2\n",
    "\n",
    "# Print the result\n",
    "print(\"The larger number is:\", larger_number)"
   ]
  },
  {
   "cell_type": "code",
   "execution_count": 4,
   "metadata": {},
   "outputs": [
    {
     "name": "stdout",
     "output_type": "stream",
     "text": [
      "The largest number is: 5\n"
     ]
    }
   ],
   "source": [
    "# Read three numbers\n",
    "number1 = int(input(\"Enter the first number: \"))\n",
    "number2 = int(input(\"Enter the second number: \"))\n",
    "number3 = int(input(\"Enter the third number: \"))\n",
    "\n",
    "# We temporarily assume that the first number\n",
    "# is the largest one.\n",
    "# We will verify this soon.\n",
    "largest_number = number1\n",
    "\n",
    "# We check if the second number is larger than current largest_number\n",
    "# and update largest_number if needed.\n",
    "if number2 > largest_number:\n",
    "    largest_number = number2\n",
    "\n",
    "# We check if the third number is larger than current largest_number\n",
    "# and update largest_number if needed.\n",
    "if number3 > largest_number:\n",
    "    largest_number = number3\n",
    "\n",
    "# Print the result\n",
    "print(\"The largest number is:\", largest_number)"
   ]
  },
  {
   "cell_type": "code",
   "execution_count": 5,
   "metadata": {},
   "outputs": [
    {
     "name": "stdout",
     "output_type": "stream",
     "text": [
      "four\n",
      "five\n"
     ]
    }
   ],
   "source": [
    "x = \"1\"\n",
    "\n",
    "if x == 1:\n",
    "    print(\"one\")\n",
    "elif x == \"1\":\n",
    "    if int(x) > 1:\n",
    "        print(\"two\")\n",
    "    elif int(x) < 1:\n",
    "        print(\"three\")\n",
    "    else:\n",
    "        print(\"four\")\n",
    "if int(x) == 1:\n",
    "    print(\"five\")\n",
    "else:\n",
    "    print(\"six\")"
   ]
  },
  {
   "cell_type": "markdown",
   "metadata": {},
   "source": [
    "while 0 => False while 1 => True"
   ]
  },
  {
   "cell_type": "markdown",
   "metadata": {},
   "source": [
    "#### Looping your code with while"
   ]
  },
  {
   "cell_type": "code",
   "execution_count": 7,
   "metadata": {},
   "outputs": [
    {
     "name": "stdout",
     "output_type": "stream",
     "text": [
      "1) I Love Pakistan\n",
      "2) I Love Pakistan\n",
      "3) I Love Pakistan\n",
      "4) I Love Pakistan\n",
      "5) I Love Pakistan\n"
     ]
    }
   ],
   "source": [
    "i = 0\n",
    "while i < 5:\n",
    "    i += 1\n",
    "    print(i, \" I Love Pakistan\", sep=\")\")"
   ]
  },
  {
   "cell_type": "code",
   "execution_count": 9,
   "metadata": {},
   "outputs": [
    {
     "name": "stdout",
     "output_type": "stream",
     "text": [
      "0. I Love Pakistan\n",
      "1. I Love Pakistan\n",
      "2. I Love Pakistan\n",
      "3. I Love Pakistan\n",
      "4. I Love Pakistan\n"
     ]
    }
   ],
   "source": [
    "i = 0\n",
    "while i < 5:\n",
    "    print(i, \" I Love Pakistan\", sep=\".\")\n",
    "    i += 1"
   ]
  }
 ],
 "metadata": {
  "kernelspec": {
   "display_name": "py12",
   "language": "python",
   "name": "python3"
  },
  "language_info": {
   "codemirror_mode": {
    "name": "ipython",
    "version": 3
   },
   "file_extension": ".py",
   "mimetype": "text/x-python",
   "name": "python",
   "nbconvert_exporter": "python",
   "pygments_lexer": "ipython3",
   "version": "3.12.0"
  }
 },
 "nbformat": 4,
 "nbformat_minor": 2
}
