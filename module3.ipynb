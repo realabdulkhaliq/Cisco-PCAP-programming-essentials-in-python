{
 "cells": [
  {
   "cell_type": "markdown",
   "metadata": {},
   "source": [
    "## Module 3\n",
    "### Comparison operators\n",
    "\n",
    "<, <=, >, >=, ==,  !="
   ]
  },
  {
   "cell_type": "markdown",
   "metadata": {},
   "source": [
    "#### Conditions and conditional execution\n",
    "\n",
    "`if true_or_false_condition:`\n",
    "    `perform_if_condition_true`\n",
    "`else:`\n",
    "    `perform_if_condition_false`"
   ]
  },
  {
   "cell_type": "code",
   "execution_count": 2,
   "metadata": {},
   "outputs": [
    {
     "name": "stdout",
     "output_type": "stream",
     "text": [
      "The larger number is: 4\n"
     ]
    }
   ],
   "source": [
    "# Read two numbers\n",
    "number1 = int(input(\"Enter the first number: \"))\n",
    "number2 = int(input(\"Enter the second number: \"))\n",
    "\n",
    "# Choose the larger number\n",
    "if number1 > number2:\n",
    "    larger_number = number1\n",
    "else:\n",
    "    larger_number = number2\n",
    "\n",
    "# Print the result\n",
    "print(\"The larger number is:\", larger_number)"
   ]
  },
  {
   "cell_type": "code",
   "execution_count": 3,
   "metadata": {},
   "outputs": [
    {
     "name": "stdout",
     "output_type": "stream",
     "text": [
      "The larger number is: 5\n"
     ]
    }
   ],
   "source": [
    "# Read two numbers\n",
    "number1 = int(input(\"Enter the first number: \"))\n",
    "number2 = int(input(\"Enter the second number: \"))\n",
    "\n",
    "# Choose the larger number\n",
    "if number1 > number2: larger_number = number1\n",
    "else: larger_number = number2\n",
    "\n",
    "# Print the result\n",
    "print(\"The larger number is:\", larger_number)"
   ]
  }
 ],
 "metadata": {
  "kernelspec": {
   "display_name": "py12",
   "language": "python",
   "name": "python3"
  },
  "language_info": {
   "codemirror_mode": {
    "name": "ipython",
    "version": 3
   },
   "file_extension": ".py",
   "mimetype": "text/x-python",
   "name": "python",
   "nbconvert_exporter": "python",
   "pygments_lexer": "ipython3",
   "version": "3.12.0"
  }
 },
 "nbformat": 4,
 "nbformat_minor": 2
}
