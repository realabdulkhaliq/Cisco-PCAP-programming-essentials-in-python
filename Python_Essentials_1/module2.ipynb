{
 "cells": [
  {
   "cell_type": "markdown",
   "metadata": {},
   "source": [
    "### Variables\n",
    "\n",
    "variables (an identifier) = \"boxes\" (containers)\n",
    "* a name\n",
    "* a value\n",
    "\n",
    "- the name of the variable must be composed of upper-case or lower-case letters, digits, and the character _ - (underscore)\n",
    "- the name of the variable must begin with a letter;\n",
    "- the underscore character is a letter;\n",
    "- upper- and lower-case letters are treated as different\n",
    "- the name of the variable must not be any of Python's reserved words (the keywords)"
   ]
  },
  {
   "cell_type": "markdown",
   "metadata": {},
   "source": [
    "#### Keywords"
   ]
  },
  {
   "cell_type": "markdown",
   "metadata": {},
   "source": [
    "['False', 'None', 'True', 'and', 'as', 'assert', 'break', 'class', 'continue', 'def', 'del', 'elif', 'else', 'except', 'finally', 'for', 'from', 'global', 'if', 'import', 'in', 'is', 'lambda', 'nonlocal', 'not', 'or', 'pass', 'raise', 'return', 'try', 'while', 'with', 'yield']"
   ]
  },
  {
   "cell_type": "code",
   "execution_count": 57,
   "metadata": {},
   "outputs": [
    {
     "name": "stdout",
     "output_type": "stream",
     "text": [
      "20\n",
      "20\n",
      "20\n",
      "میں ایک لڑکا ہوں\n",
      "میں ایک لڑکا ہوں\n"
     ]
    }
   ],
   "source": [
    "Print = 20\n",
    "print(Print) # This is OK but not recomended\n",
    "\n",
    "print_value = 20\n",
    "print(print_value) # Recomended\n",
    "\n",
    "ویری_ایبل = 20\n",
    "print(ویری_ایبل) # OK\n",
    "\n",
    "print(\"میں ایک لڑکا ہوں\")\n",
    "urdu = \"میں ایک لڑکا ہوں\"\n",
    "print(urdu)"
   ]
  },
  {
   "cell_type": "markdown",
   "metadata": {},
   "source": [
    "Shortcut operators"
   ]
  },
  {
   "cell_type": "code",
   "execution_count": 60,
   "metadata": {},
   "outputs": [
    {
     "name": "stdout",
     "output_type": "stream",
     "text": [
      "4\n",
      "6\n"
     ]
    }
   ],
   "source": [
    "x = 2\n",
    "x = x*2\n",
    "y = 3\n",
    "y *= 2\n",
    "\n",
    "print(x)\n",
    "print(y)\n"
   ]
  },
  {
   "cell_type": "markdown",
   "metadata": {},
   "source": [
    "### Input"
   ]
  },
  {
   "cell_type": "code",
   "execution_count": 62,
   "metadata": {},
   "outputs": [
    {
     "name": "stdout",
     "output_type": "stream",
     "text": [
      "5555555555\n",
      "50\n"
     ]
    }
   ],
   "source": [
    "a = input(\"Enter a number: \")\n",
    "print ( 10 * a)\n",
    "\n",
    "b = int(input(\"Enter another number: \"))\n",
    "print(10 * b)"
   ]
  },
  {
   "cell_type": "code",
   "execution_count": 23,
   "metadata": {},
   "outputs": [
    {
     "ename": "TypeError",
     "evalue": "unsupported operand type(s) for ** or pow(): 'str' and 'float'",
     "output_type": "error",
     "traceback": [
      "\u001b[1;31m---------------------------------------------------------------------------\u001b[0m",
      "\u001b[1;31mTypeError\u001b[0m                                 Traceback (most recent call last)",
      "Cell \u001b[1;32mIn[23], line 2\u001b[0m\n\u001b[0;32m      1\u001b[0m anything \u001b[38;5;241m=\u001b[39m \u001b[38;5;28minput\u001b[39m(\u001b[38;5;124m\"\u001b[39m\u001b[38;5;124mEnter a number: \u001b[39m\u001b[38;5;124m\"\u001b[39m)\n\u001b[1;32m----> 2\u001b[0m something \u001b[38;5;241m=\u001b[39m \u001b[43manything\u001b[49m\u001b[43m \u001b[49m\u001b[38;5;241;43m*\u001b[39;49m\u001b[38;5;241;43m*\u001b[39;49m\u001b[43m \u001b[49m\u001b[38;5;241;43m2.0\u001b[39;49m\n\u001b[0;32m      3\u001b[0m \u001b[38;5;28mprint\u001b[39m(anything, \u001b[38;5;124m\"\u001b[39m\u001b[38;5;124mto the power of 2 is\u001b[39m\u001b[38;5;124m\"\u001b[39m, something)\n",
      "\u001b[1;31mTypeError\u001b[0m: unsupported operand type(s) for ** or pow(): 'str' and 'float'"
     ]
    }
   ],
   "source": [
    "anything = input(\"Enter a number: \")\n",
    "something = anything ** 2.0\n",
    "print(anything, \"to the power of 2 is\", something)"
   ]
  },
  {
   "cell_type": "markdown",
   "metadata": {},
   "source": [
    "Concatenation operator:\n",
    "\n",
    "`string + string`\n",
    "\n",
    "Replication operator:\n",
    "\n",
    "`string * number` </br>\n",
    "`number * string`"
   ]
  },
  {
   "cell_type": "code",
   "execution_count": 66,
   "metadata": {},
   "outputs": [
    {
     "name": "stdout",
     "output_type": "stream",
     "text": [
      "+----------+\n",
      "|          |\n",
      "|          |\n",
      "|          |\n",
      "|          |\n",
      "|          |\n",
      "+----------+\n"
     ]
    }
   ],
   "source": [
    "print(\"+\" + 10 * \"-\" + \"+\")\n",
    "print((\"|\" + \" \" * 10 + \"|\\n\") * 5, end=\"\")\n",
    "print(\"+\" + 10 * \"-\" + \"+\")"
   ]
  },
  {
   "cell_type": "markdown",
   "metadata": {},
   "source": [
    "Type conversion\n",
    "\n",
    "str(number)"
   ]
  },
  {
   "cell_type": "code",
   "execution_count": 64,
   "metadata": {},
   "outputs": [
    {
     "name": "stdout",
     "output_type": "stream",
     "text": [
      "Hypotenuse length is 5.0\n"
     ]
    }
   ],
   "source": [
    "leg_a = float(input(\"Input first leg length: \"))\n",
    "leg_b = float(input(\"Input second leg length: \"))\n",
    "print(\"Hypotenuse length is \" + str((leg_a**2 + leg_b**2) ** .5))"
   ]
  },
  {
   "cell_type": "code",
   "execution_count": 74,
   "metadata": {},
   "outputs": [
    {
     "name": "stdout",
     "output_type": "stream",
     "text": [
      "*\n",
      "**\n",
      "***\n",
      "****\n",
      "*****\n",
      "=======\n",
      "*\n",
      "**\n",
      "***\n",
      "****\n",
      "*****\n"
     ]
    }
   ],
   "source": [
    "print(\"*\")\n",
    "print(\"*\" * 2)\n",
    "print(\"*\" * 3)\n",
    "print(\"*\" * 4)\n",
    "print(\"*\" * 5)\n",
    "print(\"=======\")\n",
    "for i in range(1, 6):\n",
    "    print(\"*\" * i)"
   ]
  }
 ],
 "metadata": {
  "kernelspec": {
   "display_name": "py12",
   "language": "python",
   "name": "python3"
  },
  "language_info": {
   "codemirror_mode": {
    "name": "ipython",
    "version": 3
   },
   "file_extension": ".py",
   "mimetype": "text/x-python",
   "name": "python",
   "nbconvert_exporter": "python",
   "pygments_lexer": "ipython3",
   "version": "3.12.0"
  }
 },
 "nbformat": 4,
 "nbformat_minor": 2
}
